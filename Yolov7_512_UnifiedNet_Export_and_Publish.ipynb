{
  "cells": [
    {
      "cell_type": "markdown",
      "metadata": {
        "id": "view-in-github",
        "colab_type": "text"
      },
      "source": [
        "<a href=\"https://colab.research.google.com/github/deanofthewebb/yolov7-1/blob/main/Yolov7_512_UnifiedNet_Export_and_Publish.ipynb\" target=\"_parent\"><img src=\"https://colab.research.google.com/assets/colab-badge.svg\" alt=\"Open In Colab\"/></a>"
      ]
    },
    {
      "cell_type": "markdown",
      "metadata": {
        "id": "9snrC-prd7n4"
      },
      "source": [
        "# **1. Download Dependencies**"
      ]
    },
    {
      "cell_type": "code",
      "execution_count": 1,
      "metadata": {
        "id": "1qnIGIIX178Y",
        "colab": {
          "base_uri": "https://localhost:8080/"
        },
        "outputId": "696d8eb2-90cd-4399-8593-7616ee2118fa"
      },
      "outputs": [
        {
          "output_type": "stream",
          "name": "stdout",
          "text": [
            "Mounted at /content/gdrive\n"
          ]
        }
      ],
      "source": [
        "from google.colab import drive\n",
        "drive.mount('/content/gdrive',force_remount=True)"
      ]
    },
    {
      "cell_type": "markdown",
      "metadata": {
        "id": "6MF0PzfaEJUB"
      },
      "source": [
        "**Get the Latest Updated DeepSORT Tracking Script**"
      ]
    },
    {
      "cell_type": "code",
      "execution_count": 2,
      "metadata": {
        "colab": {
          "base_uri": "https://localhost:8080/"
        },
        "id": "2wXLe-Ywwcm9",
        "outputId": "2dcba5df-c9ef-4191-bf18-8c064bc8840f"
      },
      "outputs": [
        {
          "output_type": "stream",
          "name": "stdout",
          "text": [
            "Cloning into 'yolov7'...\n",
            "remote: Enumerating objects: 231, done.\u001b[K\n",
            "remote: Counting objects: 100% (66/66), done.\u001b[K\n",
            "remote: Compressing objects: 100% (56/56), done.\u001b[K\n",
            "remote: Total 231 (delta 38), reused 23 (delta 10), pack-reused 165\u001b[K\n",
            "Receiving objects: 100% (231/231), 14.98 MiB | 25.82 MiB/s, done.\n",
            "Resolving deltas: 100% (94/94), done.\n"
          ]
        }
      ],
      "source": [
        "# !git clone https://github.com/ultralytics/yolov5.git\n",
        "!git clone https://github.com/WongKinYiu/yolov7.git"
      ]
    },
    {
      "cell_type": "markdown",
      "metadata": {
        "id": "JTmhwB0GeGyH"
      },
      "source": [
        "# **2. Install Requirements**"
      ]
    },
    {
      "cell_type": "code",
      "execution_count": null,
      "metadata": {
        "id": "F5DpJstaUIWC"
      },
      "outputs": [],
      "source": [
        "%cd yolov7\n",
        "!pip install -r requirements.txt -qqq\n",
        "!pip install onnx -qqq\n",
        "!pip install onnxruntime-gpu -qqq\n",
        "!pip install Pillow>=7.1.2 -qqq\n",
        "!pip install awscli"
      ]
    },
    {
      "cell_type": "code",
      "execution_count": null,
      "metadata": {
        "id": "y1Xz2dAA7qTu"
      },
      "outputs": [],
      "source": [
        "!aws configure"
      ]
    },
    {
      "cell_type": "code",
      "execution_count": null,
      "metadata": {
        "id": "mLgBasnK7qKU"
      },
      "outputs": [],
      "source": [
        "# !mkdir /content/gdrive/MyDrive/Development/videos/3___yolov5m\n",
        "# !aws s3 sync s3://vision-stream.livereachmedia.com/2BH2LRU3SXZJn4pQu8SNB6FI0zc/2022-07-01/ /content/gdrive/MyDrive/Development/videos/3___yolov5m/"
      ]
    },
    {
      "cell_type": "code",
      "execution_count": null,
      "metadata": {
        "id": "Fcvik_eUyNT8"
      },
      "outputs": [],
      "source": [
        "%cd /content/yolov7_deepsort/yolov7_deepsort/\n",
        "import os\n",
        "import sys\n",
        "from pathlib import Path\n",
        "from glob import glob\n",
        "from PIL import Image\n",
        "import shutil\n",
        "import operator\n",
        "import subprocess\n",
        "import torch\n",
        "from collections import OrderedDict\n",
        "yolo_version = 'yolov7-e6e'\n",
        "img_size = '1280'\n",
        "yolo_alias = f'{yolo_version}_unifiednet_{img_size}'\n",
        "# ckpt_path = f'/content/gdrive/MyDrive/checkpoints/vision-rx.yolov5m.inline.objects.unifiednet_512_beta_v2.ckpt'\n",
        "ckpt_path = f'/content/gdrive/MyDrive/models/yolov7-e6e.pt'\n",
        "# model = torch.hub.load('WongKinYiu/yolov7', yolo_version, autoshape=False, pretrained=False, classes=80, force_reload=True)\n",
        "model = torch.load(ckpt_path)['model']\n",
        "\n",
        "state_dict = model.state_dict()\n",
        "print(state_dict.keys())\n",
        "\n",
        "# revised_state_dict = OrderedDict([(k.replace('model.model', 'model'), v) if 'model.model' in k else (k, v) for k, v in state_dict.items()])\n",
        "# revised_state_dict = OrderedDict([(k, v[:39]) if k in ['model.105.m.0.weight', \n",
        "#                                                       'model.105.m.0.bias',\n",
        "#                                                       'model.105.m.1.weight',\n",
        "#                                                       'model.105.m.1.bias',\n",
        "#                                                       'model.105.m.2.weight',\n",
        "#                                                       'model.105.m.2.bias',\n",
        "#                                                        ] else (k, v) for k, v in revised_state_dict.items()])\n",
        "# model.load_state_dict(state_dict, strict=True)"
      ]
    },
    {
      "cell_type": "markdown",
      "metadata": {
        "id": "zRuvILnQeNfT"
      },
      "source": [
        "## **3. Run YOLOV5 Conversion**"
      ]
    },
    {
      "cell_type": "code",
      "source": [
        "\n",
        "!pip install -qqq tensorflow torch torchvision umap-learn\n",
        "!pip install -qqq ipywidgets>=7.5\n",
        "!pip install -qqq opencv-python-headless==4.5.4.60\n",
        "!pip install -qqq fiftyone"
      ],
      "metadata": {
        "id": "8ywLeawZ5AXe"
      },
      "execution_count": null,
      "outputs": []
    },
    {
      "cell_type": "code",
      "execution_count": 5,
      "metadata": {
        "id": "FPbU3iLPwBQL"
      },
      "outputs": [],
      "source": [
        "model.eval()\n",
        "torch.save({'model': model, 'state_dict': state_dict, }, f'/content/{yolo_alias}.pt')"
      ]
    },
    {
      "cell_type": "code",
      "execution_count": null,
      "metadata": {
        "id": "wLGbHtsQPPzt",
        "colab": {
          "base_uri": "https://localhost:8080/"
        },
        "outputId": "1cb4973c-6ccc-4eca-ceb2-4bc14758632f"
      },
      "outputs": [
        {
          "output_type": "stream",
          "name": "stdout",
          "text": [
            "/content/yolov7_deepsort\n",
            "/usr/local/lib/python3.7/dist-packages/setuptools/dist.py:484: UserWarning: Normalizing '0.01' to '0.1'\n",
            "  warnings.warn(tmpl.format(**locals()))\n",
            "running install\n",
            "running bdist_egg\n",
            "running egg_info\n",
            "writing Keystone_Pipeline.egg-info/PKG-INFO\n",
            "writing dependency_links to Keystone_Pipeline.egg-info/dependency_links.txt\n",
            "writing top-level names to Keystone_Pipeline.egg-info/top_level.txt\n",
            "writing manifest file 'Keystone_Pipeline.egg-info/SOURCES.txt'\n",
            "installing library code to build/bdist.linux-x86_64/egg\n",
            "running install_lib\n",
            "running build_py\n",
            "copying keystone/fiftyone_custom_documents.py -> build/lib/keystone\n",
            "creating build/bdist.linux-x86_64/egg\n",
            "creating build/bdist.linux-x86_64/egg/keystone\n",
            "copying build/lib/keystone/__init__.py -> build/bdist.linux-x86_64/egg/keystone\n",
            "copying build/lib/keystone/fiftyone_custom_documents.py -> build/bdist.linux-x86_64/egg/keystone\n",
            "byte-compiling build/bdist.linux-x86_64/egg/keystone/__init__.py to __init__.cpython-37.pyc\n",
            "byte-compiling build/bdist.linux-x86_64/egg/keystone/fiftyone_custom_documents.py to fiftyone_custom_documents.cpython-37.pyc\n",
            "creating build/bdist.linux-x86_64/egg/EGG-INFO\n",
            "copying Keystone_Pipeline.egg-info/PKG-INFO -> build/bdist.linux-x86_64/egg/EGG-INFO\n",
            "copying Keystone_Pipeline.egg-info/SOURCES.txt -> build/bdist.linux-x86_64/egg/EGG-INFO\n",
            "copying Keystone_Pipeline.egg-info/dependency_links.txt -> build/bdist.linux-x86_64/egg/EGG-INFO\n",
            "copying Keystone_Pipeline.egg-info/top_level.txt -> build/bdist.linux-x86_64/egg/EGG-INFO\n",
            "zip_safe flag not set; analyzing archive contents...\n",
            "creating 'dist/Keystone_Pipeline-0.1-py3.7.egg' and adding 'build/bdist.linux-x86_64/egg' to it\n",
            "removing 'build/bdist.linux-x86_64/egg' (and everything under it)\n",
            "Processing Keystone_Pipeline-0.1-py3.7.egg\n",
            "Removing /usr/local/lib/python3.7/dist-packages/Keystone_Pipeline-0.1-py3.7.egg\n",
            "Copying Keystone_Pipeline-0.1-py3.7.egg to /usr/local/lib/python3.7/dist-packages\n",
            "Keystone-Pipeline 0.1 is already the active version in easy-install.pth\n",
            "\n",
            "Installed /usr/local/lib/python3.7/dist-packages/Keystone_Pipeline-0.1-py3.7.egg\n",
            "Processing dependencies for Keystone-Pipeline==0.1\n",
            "Finished processing dependencies for Keystone-Pipeline==0.1\n",
            "/content/yolov7_deepsort/yolov7_deepsort\n",
            "VIDEO DIR /content/gdrive/MyDrive/videos\n",
            "Running YOLO\n",
            "Namespace(agnostic_nms=True, augment=False, cfg='/content/yolov7_deepsort/yolov7_deepsort/cfg/deploy/yolov7-e6e.yaml', classes=[0, 2, 5, 7], conf_thres=0.35, device='0', exist_ok=False, img_size=1280, iou_thres=0.5, names='data/coco.names', no_trace=False, nosave=False, output='/content/inference/2022-07-05_21-00-00_2BJkOiL9kBYVdLa1IIDBmYUsgCO', project='runs/detect', save_conf=False, save_txt=False, source='/content/gdrive/MyDrive/videos/yolov7/2022-07-05/2022-07-05_21-00-00_2BJkOiL9kBYVdLa1IIDBmYUsgCO.mp4', trailslen=64, update=False, view_img=False, weights=['/content/yolov7_deepsort/yolov7-e6e_unifiednet_1280.pt'])\n",
            "\n",
            "Loading weights from deep_sort_pytorch/deep_sort/deep/checkpoint/ckpt.t7... Done!\n",
            "\n",
            "Creating Dataset: 2022-07-05_21-00-00_2BJkOiL9kBYVdLa1IIDBmYUsgCO_FiftyOne ...\n",
            "\n",
            "YOLOR 🚀 2fa3a31 torch 1.11.0+cu113 CUDA:0 (Tesla V100-SXM2-16GB, 16160.5MB)\n",
            "\n",
            "\n",
            "\n",
            "Fusing layers... \n",
            "\n",
            "Model Summary: 792 layers, 151687420 parameters, 817020 gradients\n",
            "\n",
            " Convert model to Traced-model... \n",
            "\n",
            " traced_script_module saved! \n",
            "\n",
            " model is traced! \n",
            "\n",
            "\n",
            "\n"
          ]
        }
      ],
      "source": [
        "import fiftyone as fo\n",
        "from fiftyone import ViewField as F\n",
        "import shutil\n",
        "!cp -r /content/gdrive/MyDrive/configs/.aws /content/\n",
        "!chmod -R 777 /content/.aws\n",
        "%cd /content/yolov7_deepsort/\n",
        "!python setup.py install\n",
        "%cd /content/yolov7_deepsort/yolov7_deepsort/\n",
        "encoding = 'utf-8'\n",
        "s3_upload_path = 's3://data-labeling.livereachmedia.com/datasets/unifiednet/distilled_yolov7/'\n",
        "def run_patch_extraction_and_annotation(args):\n",
        "    def subprocess_run(cmd):\n",
        "        p = subprocess.Popen(cmd, shell=True, stdout=subprocess.PIPE,\n",
        "                            stderr=subprocess.STDOUT)\n",
        "        stdout = []\n",
        "        while True:\n",
        "            line = p.stdout.readline()\n",
        "            stdout.append(line.decode(encoding))\n",
        "            print(line.decode(encoding))\n",
        "            if line.decode(encoding) == '' and p.poll() != None:\n",
        "                break\n",
        "        return ''.join(stdout)\n",
        "\n",
        "    processed_dir = args['processed_dir']\n",
        "    for device in args['devices']:\n",
        "        # Process Folder #\n",
        "        for path, dirs, files in os.walk(f\"/content/gdrive/MyDrive/videos/{args['devices'][0]}/\"):\n",
        "            for dir in reversed(dirs):\n",
        "                print(\"VIDEO DIR\",args['videos_dir'].as_posix() )\n",
        "                for file_ in Path(path+'/'+dir).iterdir():\n",
        "                    new_save_dir = args['save_dir'] / Path(file_).stem\n",
        "                    os.makedirs(new_save_dir, exist_ok=True)\n",
        "\n",
        "                    tmp_save_dir = Path('/content/inference') / Path(file_).stem\n",
        "                    os.makedirs(tmp_save_dir, exist_ok=True)\n",
        "                    old_video_path = file_\n",
        "                    # print(old_video_path)\n",
        "                    video_processed_fpath = args['processed_dir'] / Path(file_).stem\n",
        "                    # print(video_processed_fpath)\n",
        "                    # Run Detection\n",
        "                    print(\"Running YOLO\")\n",
        "                    cmd = f\"python detect_track_trails.py  \\\n",
        "                                  --class 0 2 5 7 \\\n",
        "                                  --agnostic-nms \\\n",
        "                                  --source {os.path.abspath(file_)} \\\n",
        "                                  --output {tmp_save_dir.as_posix()} \\\n",
        "                                  --weights /content/yolov7_deepsort/yolov7-e6e_unifiednet_1280.pt \\\n",
        "                                  --conf 0.35 \\\n",
        "                                  --cfg /content/yolov7_deepsort/yolov7_deepsort/cfg/deploy/yolov7-e6e.yaml \\\n",
        "                                  --img-size {img_size} --device 0\"\n",
        "                    subprocess_run(cmd)\n",
        "                    !aws s3 sync /content/inference/{Path(file_).stem}/datasets {s3_upload_path}\n",
        "                    shutil.move(tmp_save_dir.as_posix(),new_save_dir.as_posix())\n",
        "                    \n",
        "\n",
        "if __name__ == '__main__':\n",
        "    args = { 'save_dir': Path('/content/gdrive/MyDrive/inference/'),\n",
        "                    \n",
        "                    'devices': ['yolov7'],\n",
        "                    'videos_dir': Path('/content/gdrive/MyDrive/videos/'),\n",
        "                    'processed_dir': Path('/content/gdrive/MyDrive/videos/raw_videos_detected/')}\n",
        "    run_patch_extraction_and_annotation(args)"
      ]
    },
    {
      "cell_type": "code",
      "execution_count": null,
      "metadata": {
        "id": "0RmmnKo2Geyl"
      },
      "outputs": [],
      "source": [
        "model.eval()\n",
        "torch.save(model, f'/content/{yolo_alias}_pre-wts.pt')\n",
        "%cd /content/yolov7/\n",
        "# !cp -ur /content/gdrive/MyDrive/scripts/gen_wts_yoloV5.py .\n",
        "yolo_path = f\"{yolo_alias}_pre-wts.pt\"\n",
        "# !cp -ur /content/gdrive/MyDrive/configs/{yolo_version}.yaml .\n",
        "\n",
        "!python gen_wts_yoloV5.py -w {yolo_path} --yaml /content/yolov7/cfg/deploy/yolov7-e6e.yaml -mw {img_size} -mh {img_size}\n",
        "# !mkdir /content/gdrive/MyDrive/weights/exported_weights/{yolo_version}_{img_size}/{yolo_alias}_export/\n",
        "# !cp -r /content/{yolo_alias}.pt /content/gdrive/MyDrive/weights/exported_weights/{yolo_version}_{img_size}/{yolo_alias}_export/\n",
        "# !cp -r /content/{yolo_alias}_pre-wts.pt /content/gdrive/MyDrive/weights/exported_weights/{yolo_version}_{img_size}/{yolo_alias}_export/{yolo_alias}.pt\n",
        "# !cp -r /content/{yolo_alias}_pre-wts.wts /content/gdrive/MyDrive/weights/exported_weights/{yolo_version}_{img_size}/{yolo_alias}_export/{yolo_alias}.wts\n",
        "# !cp -r /content/{yolo_alias}_pre-wts.cfg /content/gdrive/MyDrive/weights/exported_weights/{yolo_version}_{img_size}/{yolo_alias}_export/{yolo_alias}.cfg\n"
      ]
    },
    {
      "cell_type": "code",
      "execution_count": null,
      "metadata": {
        "id": "y-mei3G4AiHW"
      },
      "outputs": [],
      "source": [
        "# !cat /content/gdrive/MyDrive/.aws/credentials\n",
        "!pip install -U PyYAML\n"
      ]
    },
    {
      "cell_type": "code",
      "execution_count": null,
      "metadata": {
        "id": "usCLyzPsqLRT"
      },
      "outputs": [],
      "source": [
        "# !pip install awscli && aws configure"
      ]
    },
    {
      "cell_type": "code",
      "execution_count": null,
      "metadata": {
        "id": "jR_72LYtoX2H"
      },
      "outputs": [],
      "source": [
        "!cp /content/yolov7.onnx /content/vision-rx.yolov7.inline.objects.coco_640.onnx\n",
        "# !cp /content/yolov7-tiny.cfg vision-rx.yolov7.inline.objects.coco_416.cfg "
      ]
    },
    {
      "cell_type": "code",
      "execution_count": null,
      "metadata": {
        "id": "qiuqAb--oXrn"
      },
      "outputs": [],
      "source": [
        "!aws s3 cp "
      ]
    },
    {
      "cell_type": "code",
      "execution_count": null,
      "metadata": {
        "id": "7xS8ez5doXj2"
      },
      "outputs": [],
      "source": [
        "!python models/export.py --weights /content/yolov7.pt --grid"
      ]
    },
    {
      "cell_type": "code",
      "execution_count": null,
      "metadata": {
        "id": "TNbZ9-C6qNvS"
      },
      "outputs": [],
      "source": [
        "%cd /content/yolov7/\n",
        "!aws s3 cp --metadata parameters-config=1 vision-rx.yolov7-tiny.inline.objects.coco_416.wts s3://ml.livereachmedia.com/darknet/inline/yolov7-tiny/vision-rx.yolov7-tiny.inline.objects.coco_416.wts\n"
      ]
    },
    {
      "cell_type": "code",
      "execution_count": null,
      "metadata": {
        "id": "fSoiJcowqboX"
      },
      "outputs": [],
      "source": [
        "!aws s3 cp --metadata parameters-config=1 /content/yolov7.onnx   s3://ml.livereachmedia.com/darknet/inline/yolov7/vision-rx.yolov7.inline.objects.coco_640.onnx\n"
      ]
    },
    {
      "cell_type": "code",
      "execution_count": null,
      "metadata": {
        "id": "fYc7FRrhqmRr"
      },
      "outputs": [],
      "source": [
        "!aws s3 cp s3://data-labeling.livereachmedia.com/datasets/unifiednet/yolor_deepsort.zip . && unzip -qqq yolor_deepsort.zip"
      ]
    },
    {
      "cell_type": "code",
      "execution_count": null,
      "metadata": {
        "id": "mRiU8Kz-TNfz"
      },
      "outputs": [],
      "source": [
        ""
      ]
    }
  ],
  "metadata": {
    "accelerator": "GPU",
    "colab": {
      "background_execution": "on",
      "collapsed_sections": [],
      "machine_shape": "hm",
      "name": "Yolov7_512_UnifiedNet_Export and Publish.ipynb",
      "provenance": [],
      "include_colab_link": true
    },
    "kernelspec": {
      "display_name": "Python 3",
      "name": "python3"
    },
    "language_info": {
      "name": "python"
    },
    "gpuClass": "standard"
  },
  "nbformat": 4,
  "nbformat_minor": 0
}